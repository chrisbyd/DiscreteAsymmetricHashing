{
 "cells": [
  {
   "cell_type": "code",
   "execution_count": 36,
   "metadata": {},
   "outputs": [],
   "source": [
    "import os\n",
    "import os.path as osp\n",
    "from collections import defaultdict\n",
    "import numpy as np\n",
    "from random import shuffle"
   ]
  },
  {
   "cell_type": "code",
   "execution_count": 37,
   "metadata": {},
   "outputs": [
    {
     "data": {
      "text/plain": [
       "['Process_dataset.ipynb',\n",
       " '.DS_Store',\n",
       " '.ipynb_checkpoints',\n",
       " 'NUS-WIDE',\n",
       " 'CIFAR-10']"
      ]
     },
     "execution_count": 37,
     "metadata": {},
     "output_type": "execute_result"
    }
   ],
   "source": [
    "os.listdir()"
   ]
  },
  {
   "cell_type": "code",
   "execution_count": 38,
   "metadata": {},
   "outputs": [],
   "source": [
    "path_dir = './CIFAR-10/'\n",
    "data_path = '/home/chris/research_dataset/hash_dataset/single_modality/cifar10/images/'"
   ]
  },
  {
   "cell_type": "code",
   "execution_count": 39,
   "metadata": {},
   "outputs": [],
   "source": [
    "images = os.listdir(data_path)"
   ]
  },
  {
   "cell_type": "code",
   "execution_count": 40,
   "metadata": {},
   "outputs": [],
   "source": [
    "label_to_path= defaultdict(list)"
   ]
  },
  {
   "cell_type": "code",
   "execution_count": 41,
   "metadata": {},
   "outputs": [
    {
     "name": "stdout",
     "output_type": "stream",
     "text": [
      "['3', '59109.jpg']\n"
     ]
    }
   ],
   "source": [
    "a = images[0].split(\"_\")\n",
    "print(a)"
   ]
  },
  {
   "cell_type": "code",
   "execution_count": 42,
   "metadata": {},
   "outputs": [],
   "source": [
    "for im in images:\n",
    "    label,_ = im.split('_')\n",
    "    label = int(label)\n",
    "    im_path = osp.join('images',im)\n",
    "    label_to_path[label].append(im_path)\n",
    "    "
   ]
  },
  {
   "cell_type": "code",
   "execution_count": null,
   "metadata": {},
   "outputs": [],
   "source": []
  },
  {
   "cell_type": "code",
   "execution_count": 43,
   "metadata": {},
   "outputs": [],
   "source": [
    "db_img_list , db_label_list = [], []\n",
    "ts_img_list, ts_label_list = [], []"
   ]
  },
  {
   "cell_type": "code",
   "execution_count": 44,
   "metadata": {},
   "outputs": [],
   "source": [
    "for label in label_to_path.keys():\n",
    "    imgs = label_to_path[label]\n",
    "    shuffle(imgs)\n",
    "    test_images = imgs[:100]\n",
    "    test_labels = [label for i in range(100)]\n",
    "    ts_img_list.extend(test_images)\n",
    "    ts_label_list.extend(test_labels)\n",
    "    db_imgs = imgs[100:]\n",
    "    db_labels = [label for i in range(len(db_imgs))]\n",
    "    db_img_list.extend(db_imgs)\n",
    "    db_label_list.extend(db_labels)\n",
    "    \n",
    "    \n",
    "    "
   ]
  },
  {
   "cell_type": "code",
   "execution_count": 45,
   "metadata": {},
   "outputs": [],
   "source": [
    "def label_to_one_hot_string(label):\n",
    "    one_hot_label = [0 for i in range(10)]\n",
    "    one_hot_label[label] = 1\n",
    "    label_string = \"\"\n",
    "    for index, ele in enumerate(one_hot_label):\n",
    "        if index == 0 :\n",
    "            label_string = label_string + str(ele)\n",
    "        else:\n",
    "            label_string = label_string + \" \"+ str(ele)\n",
    "    return label_string\n",
    "        "
   ]
  },
  {
   "cell_type": "code",
   "execution_count": 46,
   "metadata": {},
   "outputs": [],
   "source": [
    "db_store_path, ts_store_path  = './database.txt', './test.txt'\n",
    "shuffle()"
   ]
  },
  {
   "cell_type": "code",
   "execution_count": 47,
   "metadata": {},
   "outputs": [],
   "source": [
    "with open(db_store_path,'w') as f:\n",
    "    write_strings = [] \n",
    "    for index, img_path in enumerate(db_img_list): \n",
    "        label = db_label_list[index]\n",
    "        oh_label_string = label_to_one_hot_string(label)\n",
    "        string_to_write = img_path + \" \" + oh_label_string\n",
    "        write_strings.append(string_to_write)\n",
    "    shuffle(write_strings)\n",
    "    for s in write_strings:\n",
    "        f.write(string_to_write)\n",
    "        f.write('\\n')\n",
    "        "
   ]
  },
  {
   "cell_type": "code",
   "execution_count": 48,
   "metadata": {},
   "outputs": [],
   "source": [
    "with open(ts_store_path,'w') as f:\n",
    "    write_strings = [] \n",
    "    for index, img_path in enumerate(ts_img_list): \n",
    "        label = ts_label_list[index]\n",
    "        oh_label_string = label_to_one_hot_string(label)\n",
    "        string_to_write = img_path + \" \" + oh_label_string\n",
    "        write_strings.append(string_to_write)\n",
    "    shuffle(write_strings)\n",
    "    for s in write_strings:\n",
    "        f.write(string_to_write)\n",
    "        f.write('\\n')"
   ]
  },
  {
   "cell_type": "code",
   "execution_count": null,
   "metadata": {},
   "outputs": [],
   "source": []
  },
  {
   "cell_type": "code",
   "execution_count": null,
   "metadata": {},
   "outputs": [],
   "source": []
  },
  {
   "cell_type": "code",
   "execution_count": null,
   "metadata": {},
   "outputs": [],
   "source": []
  },
  {
   "cell_type": "code",
   "execution_count": null,
   "metadata": {},
   "outputs": [],
   "source": []
  },
  {
   "cell_type": "code",
   "execution_count": null,
   "metadata": {},
   "outputs": [],
   "source": []
  },
  {
   "cell_type": "code",
   "execution_count": null,
   "metadata": {},
   "outputs": [],
   "source": []
  },
  {
   "cell_type": "code",
   "execution_count": null,
   "metadata": {},
   "outputs": [],
   "source": []
  },
  {
   "cell_type": "code",
   "execution_count": null,
   "metadata": {},
   "outputs": [],
   "source": []
  },
  {
   "cell_type": "code",
   "execution_count": null,
   "metadata": {},
   "outputs": [],
   "source": []
  },
  {
   "cell_type": "code",
   "execution_count": null,
   "metadata": {},
   "outputs": [],
   "source": []
  },
  {
   "cell_type": "code",
   "execution_count": null,
   "metadata": {},
   "outputs": [],
   "source": []
  },
  {
   "cell_type": "code",
   "execution_count": null,
   "metadata": {},
   "outputs": [],
   "source": []
  },
  {
   "cell_type": "code",
   "execution_count": null,
   "metadata": {},
   "outputs": [],
   "source": []
  }
 ],
 "metadata": {
  "kernelspec": {
   "display_name": "Python 3.6.9 64-bit ('baseline': conda)",
   "language": "python",
   "name": "python36964bitbaselineconda107d97a8fca64813a602d6f011a29560"
  },
  "language_info": {
   "codemirror_mode": {
    "name": "ipython",
    "version": 3
   },
   "file_extension": ".py",
   "mimetype": "text/x-python",
   "name": "python",
   "nbconvert_exporter": "python",
   "pygments_lexer": "ipython3",
   "version": "3.6.10"
  }
 },
 "nbformat": 4,
 "nbformat_minor": 2
}
